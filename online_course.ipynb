{
  "nbformat": 4,
  "nbformat_minor": 0,
  "metadata": {
    "colab": {
      "name": "online_course.ipynb",
      "provenance": [],
      "collapsed_sections": [],
      "authorship_tag": "ABX9TyOVwJpZF0jP5hByuR3fA0ld",
      "include_colab_link": true
    },
    "kernelspec": {
      "name": "python3",
      "display_name": "Python 3"
    },
    "language_info": {
      "name": "python"
    }
  },
  "cells": [
    {
      "cell_type": "markdown",
      "metadata": {
        "id": "view-in-github",
        "colab_type": "text"
      },
      "source": [
        "<a href=\"https://colab.research.google.com/github/zim10/python_fandamentals_home_work/blob/main/online_course.ipynb\" target=\"_parent\"><img src=\"https://colab.research.google.com/assets/colab-badge.svg\" alt=\"Open In Colab\"/></a>"
      ]
    },
    {
      "cell_type": "code",
      "metadata": {
        "id": "3eCeTTzv77f8",
        "colab": {
          "base_uri": "https://localhost:8080/",
          "height": 0
        },
        "outputId": "d01478af-cb71-4b92-c4dd-e582f9517133"
      },
      "source": [
        "len('google')\n",
        "# data camp, course-era certificate is really value, tablue is really important for data scientist"
      ],
      "execution_count": 1,
      "outputs": [
        {
          "output_type": "execute_result",
          "data": {
            "text/plain": [
              "6"
            ]
          },
          "metadata": {
            "tags": []
          },
          "execution_count": 1
        }
      ]
    },
    {
      "cell_type": "code",
      "metadata": {
        "colab": {
          "base_uri": "https://localhost:8080/",
          "height": 0
        },
        "id": "mDp1Utyzt3YS",
        "outputId": "bc3ee343-44f6-404d-f69d-fa8fc3deefc9"
      },
      "source": [
        "'g'== 'G'"
      ],
      "execution_count": 2,
      "outputs": [
        {
          "output_type": "execute_result",
          "data": {
            "text/plain": [
              "False"
            ]
          },
          "metadata": {
            "tags": []
          },
          "execution_count": 2
        }
      ]
    },
    {
      "cell_type": "code",
      "metadata": {
        "colab": {
          "base_uri": "https://localhost:8080/",
          "height": 0
        },
        "id": "h07o7uvxuEEr",
        "outputId": "4e52b198-46f4-47ae-ac61-f88be7c4c20f"
      },
      "source": [
        "#'G'/'g'  # type error, unsupported operand types errorr\n",
        "2/2"
      ],
      "execution_count": 5,
      "outputs": [
        {
          "output_type": "execute_result",
          "data": {
            "text/plain": [
              "1.0"
            ]
          },
          "metadata": {
            "tags": []
          },
          "execution_count": 5
        }
      ]
    },
    {
      "cell_type": "code",
      "metadata": {
        "colab": {
          "base_uri": "https://localhost:8080/",
          "height": 0
        },
        "id": "aWxmeC5-uHeZ",
        "outputId": "4d9c7612-10ef-45da-d90f-eec472a01d1b"
      },
      "source": [
        "len(\"my name is azim\") # string is a jju"
      ],
      "execution_count": 7,
      "outputs": [
        {
          "output_type": "execute_result",
          "data": {
            "text/plain": [
              "15"
            ]
          },
          "metadata": {
            "tags": []
          },
          "execution_count": 7
        }
      ]
    },
    {
      "cell_type": "code",
      "metadata": {
        "colab": {
          "base_uri": "https://localhost:8080/",
          "height": 0
        },
        "id": "S5snekyEuoL_",
        "outputId": "a8252199-0311-4446-ebf0-f5d88548139d"
      },
      "source": [
        "# for comparison use == ; # syntyx error means if i wrong to write\n",
        "1==1\n",
        "1=='g'"
      ],
      "execution_count": 10,
      "outputs": [
        {
          "output_type": "execute_result",
          "data": {
            "text/plain": [
              "False"
            ]
          },
          "metadata": {
            "tags": []
          },
          "execution_count": 10
        }
      ]
    },
    {
      "cell_type": "code",
      "metadata": {
        "colab": {
          "base_uri": "https://localhost:8080/",
          "height": 0
        },
        "id": "MzPxzWH-vwMG",
        "outputId": "c5386a4d-9f4b-4fb2-e39f-d020bb29062e"
      },
      "source": [
        "# the word \"Google\" has 5 unique charecter; not 4 cuase G== g not same\n",
        "'G'=='g'"
      ],
      "execution_count": 12,
      "outputs": [
        {
          "output_type": "execute_result",
          "data": {
            "text/plain": [
              "False"
            ]
          },
          "metadata": {
            "tags": []
          },
          "execution_count": 12
        }
      ]
    },
    {
      "cell_type": "code",
      "metadata": {
        "colab": {
          "base_uri": "https://localhost:8080/",
          "height": 0
        },
        "id": "Wv8WRIwBwU-t",
        "outputId": "f81fbde8-7891-4ef8-e48b-0fadab6b32dd"
      },
      "source": [
        "# Set A= (1, 3, 5), Set B={1,2,3}; Set A instersection Set B= {1,2,3,5}. True or False\n",
        "a={1,3,5}\n",
        "b={1,2,3}\n",
        "print(a.intersection(b))\n",
        "print(a.union(b))\n",
        "print(type(a))"
      ],
      "execution_count": 14,
      "outputs": [
        {
          "output_type": "stream",
          "text": [
            "{1, 3}\n",
            "{1, 2, 3, 5}\n",
            "<class 'set'>\n"
          ],
          "name": "stdout"
        }
      ]
    },
    {
      "cell_type": "code",
      "metadata": {
        "colab": {
          "base_uri": "https://localhost:8080/",
          "height": 0
        },
        "id": "s3Ft-ji2xBa0",
        "outputId": "70d509b6-e6e0-46e1-d006-f3520d32b9f2"
      },
      "source": [
        "1==1.00"
      ],
      "execution_count": 15,
      "outputs": [
        {
          "output_type": "execute_result",
          "data": {
            "text/plain": [
              "True"
            ]
          },
          "metadata": {
            "tags": []
          },
          "execution_count": 15
        }
      ]
    },
    {
      "cell_type": "code",
      "metadata": {
        "colab": {
          "base_uri": "https://localhost:8080/",
          "height": 0
        },
        "id": "CGdFMxk_yIR7",
        "outputId": "fdef4e3f-bcc6-4950-fb7b-0876ccefecca"
      },
      "source": [
        "# there are mainly 4 types of data - str: string, text; int: ineteger numbes; float: real numbers, decimal values; bool: True, False\n",
        "a= True\n",
        "b= False\n",
        "a==b\n"
      ],
      "execution_count": 17,
      "outputs": [
        {
          "output_type": "execute_result",
          "data": {
            "text/plain": [
              "False"
            ]
          },
          "metadata": {
            "tags": []
          },
          "execution_count": 17
        }
      ]
    },
    {
      "cell_type": "code",
      "metadata": {
        "id": "hNrHLSDfzw60"
      },
      "source": [
        "# there are three rules in data science\n",
        "# Data Engineer\n",
        "# Data Analyst\n",
        "# Data Scientist: SQL, Python, Tableau, microsoft exel\n"
      ],
      "execution_count": 19,
      "outputs": []
    },
    {
      "cell_type": "code",
      "metadata": {
        "colab": {
          "base_uri": "https://localhost:8080/",
          "height": 0
        },
        "id": "WYxytcnB1D-R",
        "outputId": "2c73a770-35f4-447b-a282-c2d4a678efed"
      },
      "source": [
        "# print function is used if you not to lost your data, like\n",
        "#2+2\n",
        "#3+4\n",
        "print(2+2)\n",
        "print(3+4)"
      ],
      "execution_count": 22,
      "outputs": [
        {
          "output_type": "stream",
          "text": [
            "4\n",
            "7\n"
          ],
          "name": "stdout"
        }
      ]
    },
    {
      "cell_type": "code",
      "metadata": {
        "colab": {
          "base_uri": "https://localhost:8080/",
          "height": 0
        },
        "id": "f2rbYMro0R6Z",
        "outputId": "ecb8437b-3c5f-4322-e675-0dc88e01be36"
      },
      "source": [
        "name= 'Lionen Andres Messi'\n",
        "birth_year=1987\n",
        "height= 5.7\n",
        "is_he_a_goat= True\n",
        "print('name :', name)\n",
        "print(type(name))\n",
        "print('birth-year :', birth_year)\n",
        "print(type(birth_year))\n",
        "print ('height :', height)\n",
        "print(type(height))\n",
        "print ('Is he the greatest of all time? ', is_he_a_goat)\n",
        "print(type(is_he_a_goat))"
      ],
      "execution_count": 32,
      "outputs": [
        {
          "output_type": "stream",
          "text": [
            "name : Lionen Andres Messi\n",
            "<class 'str'>\n",
            "birth-year : 1987\n",
            "<class 'int'>\n",
            "height : 5.7\n",
            "<class 'float'>\n",
            "Is he the greatest of all time?  True\n",
            "<class 'bool'>\n"
          ],
          "name": "stdout"
        }
      ]
    },
    {
      "cell_type": "code",
      "metadata": {
        "colab": {
          "base_uri": "https://localhost:8080/",
          "height": 0
        },
        "id": "1pOdZhSi1bWf",
        "outputId": "56c221e1-af3d-454a-eadd-7385d56624a9"
      },
      "source": [
        "# data type check is very important for understanding the others code\n",
        "# logical operator\n",
        "abul=2;\n",
        "babul=3\n",
        "abul==babul\n",
        "abul<babul\n",
        "# here we get only one value, now use print function"
      ],
      "execution_count": 36,
      "outputs": [
        {
          "output_type": "execute_result",
          "data": {
            "text/plain": [
              "True"
            ]
          },
          "metadata": {
            "tags": []
          },
          "execution_count": 36
        }
      ]
    },
    {
      "cell_type": "code",
      "metadata": {
        "colab": {
          "base_uri": "https://localhost:8080/",
          "height": 0
        },
        "id": "fP4WUqgw2zEE",
        "outputId": "d1ddbe34-f52c-4972-cf4e-d36524518f62"
      },
      "source": [
        "abul=2;\n",
        "babul=3\n",
        "print(abul==babul)\n",
        "print(abul<babul)"
      ],
      "execution_count": 37,
      "outputs": [
        {
          "output_type": "stream",
          "text": [
            "False\n",
            "True\n"
          ],
          "name": "stdout"
        }
      ]
    },
    {
      "cell_type": "code",
      "metadata": {
        "colab": {
          "base_uri": "https://localhost:8080/"
        },
        "id": "W5YhbC033W0t",
        "outputId": "303b5ed8-5a9f-4651-e1cd-3ad774d63427"
      },
      "source": [
        "#comparison operator \n",
        "print (1==1)\n",
        "print(1>0.1)\n",
        "print(2<4)\n",
        "print(2<=3)\n",
        "print(2!=3)"
      ],
      "execution_count": 42,
      "outputs": [
        {
          "output_type": "stream",
          "text": [
            "True\n",
            "True\n",
            "True\n",
            "True\n",
            "True\n"
          ],
          "name": "stdout"
        }
      ]
    },
    {
      "cell_type": "code",
      "metadata": {
        "colab": {
          "base_uri": "https://localhost:8080/"
        },
        "id": "h5_5x0ik3sxD",
        "outputId": "37768771-cfb0-4fb2-b411-a797f965bb2f"
      },
      "source": [
        "# logical operator\n",
        "a=1\n",
        "b=2\n",
        "c=3\n",
        "d=4\n",
        "print(a<b and c<d)\n",
        "print(a>b and c<d)\n",
        "print(a<b and c>d)\n",
        "print(a>b and c>d)"
      ],
      "execution_count": 46,
      "outputs": [
        {
          "output_type": "stream",
          "text": [
            "True\n",
            "False\n",
            "False\n",
            "False\n"
          ],
          "name": "stdout"
        }
      ]
    },
    {
      "cell_type": "code",
      "metadata": {
        "colab": {
          "base_uri": "https://localhost:8080/"
        },
        "id": "NUb11L_64bu9",
        "outputId": "6d2eba1c-473f-4b0d-c4b7-17fdfd4aa43b"
      },
      "source": [
        "print(a<b or c<d)\n",
        "print(a>b or c>d)"
      ],
      "execution_count": 48,
      "outputs": [
        {
          "output_type": "stream",
          "text": [
            "True\n",
            "False\n"
          ],
          "name": "stdout"
        }
      ]
    },
    {
      "cell_type": "code",
      "metadata": {
        "colab": {
          "base_uri": "https://localhost:8080/"
        },
        "id": "nk8IEOJV5Foa",
        "outputId": "a48da65d-86c3-4870-970e-a376dc1a948e"
      },
      "source": [
        "print(a<b and not c<d)"
      ],
      "execution_count": 49,
      "outputs": [
        {
          "output_type": "stream",
          "text": [
            "False\n"
          ],
          "name": "stdout"
        }
      ]
    },
    {
      "cell_type": "code",
      "metadata": {
        "colab": {
          "base_uri": "https://localhost:8080/"
        },
        "id": "qbcHuTHp5ZVD",
        "outputId": "1c55a953-0dc3-482d-eeb4-b7a307aa643c"
      },
      "source": [
        "# membership Operators\n",
        "x='abul'\n",
        "y='babul'\n",
        "z='cabul'\n",
        "print(x in y)\n",
        "print(x in z)\n",
        "print(y in x)"
      ],
      "execution_count": 56,
      "outputs": [
        {
          "output_type": "stream",
          "text": [
            "True\n",
            "True\n",
            "False\n"
          ],
          "name": "stdout"
        }
      ]
    },
    {
      "cell_type": "code",
      "metadata": {
        "id": "sED2Qnms5ktl"
      },
      "source": [
        "# string manupulation\n",
        "var='azim'"
      ],
      "execution_count": 76,
      "outputs": []
    },
    {
      "cell_type": "code",
      "metadata": {
        "colab": {
          "base_uri": "https://localhost:8080/"
        },
        "id": "nW3SAPbz6j4P",
        "outputId": "529591e8-b34a-4f07-b89f-fc8db15bc6ef"
      },
      "source": [
        "# how to capitalize the first character of a string?\n",
        "var_cap=var.capitalize()\n",
        "print(var_cap)\n",
        "print(var)"
      ],
      "execution_count": 77,
      "outputs": [
        {
          "output_type": "stream",
          "text": [
            "Azim\n",
            "azim\n"
          ],
          "name": "stdout"
        }
      ]
    },
    {
      "cell_type": "code",
      "metadata": {
        "colab": {
          "base_uri": "https://localhost:8080/"
        },
        "id": "rACytPUo6-FL",
        "outputId": "9026e14f-3bb3-41fe-9698-77b5b74fde88"
      },
      "source": [
        "# how to find the frequency of the substring in a string?\n",
        "str_count=var.count('az')\n",
        "print(str_count)"
      ],
      "execution_count": 78,
      "outputs": [
        {
          "output_type": "stream",
          "text": [
            "1\n"
          ],
          "name": "stdout"
        }
      ]
    },
    {
      "cell_type": "code",
      "metadata": {
        "colab": {
          "base_uri": "https://localhost:8080/"
        },
        "id": "ArZu7p8I-Qpl",
        "outputId": "25871a23-9b83-4a45-dfde-c6be723afd60"
      },
      "source": [
        "var.endswith('m')"
      ],
      "execution_count": 79,
      "outputs": [
        {
          "output_type": "execute_result",
          "data": {
            "text/plain": [
              "True"
            ]
          },
          "metadata": {
            "tags": []
          },
          "execution_count": 79
        }
      ]
    },
    {
      "cell_type": "code",
      "metadata": {
        "colab": {
          "base_uri": "https://localhost:8080/"
        },
        "id": "-zam6FZp-sXq",
        "outputId": "a3778bad-a2f3-46dc-d5a3-a5dc4e60597d"
      },
      "source": [
        "var.startswith('a')"
      ],
      "execution_count": 80,
      "outputs": [
        {
          "output_type": "execute_result",
          "data": {
            "text/plain": [
              "True"
            ]
          },
          "metadata": {
            "tags": []
          },
          "execution_count": 80
        }
      ]
    },
    {
      "cell_type": "code",
      "metadata": {
        "colab": {
          "base_uri": "https://localhost:8080/"
        },
        "id": "SC7dcO76_Fqw",
        "outputId": "fa1ce98d-4d60-4da9-fcbd-7858be0fd15e"
      },
      "source": [
        "string= 'I love Bangladesh'\n",
        "print(string.endswith('I'))\n",
        "string.startswith('I')"
      ],
      "execution_count": 83,
      "outputs": [
        {
          "output_type": "execute_result",
          "data": {
            "text/plain": [
              "True"
            ]
          },
          "metadata": {
            "tags": []
          },
          "execution_count": 83
        }
      ]
    },
    {
      "cell_type": "code",
      "metadata": {
        "colab": {
          "base_uri": "https://localhost:8080/",
          "height": 35
        },
        "id": "HT2fMDQk_V2i",
        "outputId": "a532c718-6850-45d4-8283-837f26d1900e"
      },
      "source": [
        "string[0]"
      ],
      "execution_count": 85,
      "outputs": [
        {
          "output_type": "execute_result",
          "data": {
            "application/vnd.google.colaboratory.intrinsic+json": {
              "type": "string"
            },
            "text/plain": [
              "'I'"
            ]
          },
          "metadata": {
            "tags": []
          },
          "execution_count": 85
        }
      ]
    },
    {
      "cell_type": "code",
      "metadata": {
        "colab": {
          "base_uri": "https://localhost:8080/",
          "height": 35
        },
        "id": "2Of5tyj7AZGx",
        "outputId": "180bc115-0c9b-4ded-f1bd-5fa24a031660"
      },
      "source": [
        "string[-1]"
      ],
      "execution_count": 87,
      "outputs": [
        {
          "output_type": "execute_result",
          "data": {
            "application/vnd.google.colaboratory.intrinsic+json": {
              "type": "string"
            },
            "text/plain": [
              "'h'"
            ]
          },
          "metadata": {
            "tags": []
          },
          "execution_count": 87
        }
      ]
    },
    {
      "cell_type": "code",
      "metadata": {
        "colab": {
          "base_uri": "https://localhost:8080/",
          "height": 35
        },
        "id": "PDh3ZEH6AeVt",
        "outputId": "394de2e7-479d-4bfc-cd3d-f187f8fde962"
      },
      "source": [
        "#pyhton is a zero index based\n",
        "string[7:17]"
      ],
      "execution_count": 88,
      "outputs": [
        {
          "output_type": "execute_result",
          "data": {
            "application/vnd.google.colaboratory.intrinsic+json": {
              "type": "string"
            },
            "text/plain": [
              "'Bangladesh'"
            ]
          },
          "metadata": {
            "tags": []
          },
          "execution_count": 88
        }
      ]
    },
    {
      "cell_type": "code",
      "metadata": {
        "colab": {
          "base_uri": "https://localhost:8080/"
        },
        "id": "mWrN6SBbAupb",
        "outputId": "235c5589-a467-4fdf-f84c-22b6bd2d118e"
      },
      "source": [
        "# right side is the -1 index, left side is the 0 index\n",
        "print([string[:8]])\n",
        "print(string[:-2])"
      ],
      "execution_count": 94,
      "outputs": [
        {
          "output_type": "stream",
          "text": [
            "['I love B']\n",
            "I love Banglade\n"
          ],
          "name": "stdout"
        }
      ]
    },
    {
      "cell_type": "code",
      "metadata": {
        "colab": {
          "base_uri": "https://localhost:8080/",
          "height": 35
        },
        "id": "P3Z7ogeCBJCD",
        "outputId": "83c6f041-e92f-4f7a-84a7-f240b3b65c97"
      },
      "source": [
        "# how to convert  a string into lower in upper\n",
        "string.upper()"
      ],
      "execution_count": 95,
      "outputs": [
        {
          "output_type": "execute_result",
          "data": {
            "application/vnd.google.colaboratory.intrinsic+json": {
              "type": "string"
            },
            "text/plain": [
              "'I LOVE BANGLADESH'"
            ]
          },
          "metadata": {
            "tags": []
          },
          "execution_count": 95
        }
      ]
    },
    {
      "cell_type": "code",
      "metadata": {
        "colab": {
          "base_uri": "https://localhost:8080/",
          "height": 35
        },
        "id": "VSTjdAp5Bm4N",
        "outputId": "7bebe334-f2b4-4835-baab-d6ea74273c21"
      },
      "source": [
        "string.lower()"
      ],
      "execution_count": 96,
      "outputs": [
        {
          "output_type": "execute_result",
          "data": {
            "application/vnd.google.colaboratory.intrinsic+json": {
              "type": "string"
            },
            "text/plain": [
              "'i love bangladesh'"
            ]
          },
          "metadata": {
            "tags": []
          },
          "execution_count": 96
        }
      ]
    },
    {
      "cell_type": "code",
      "metadata": {
        "colab": {
          "base_uri": "https://localhost:8080/",
          "height": 35
        },
        "id": "2XYzkW8nBv1W",
        "outputId": "037e2d2e-40d0-4d0e-baf3-f5c2a3e8f544"
      },
      "source": [
        "# how to remove space from a string\n",
        "#print(type(1,00)), type error, because of coma, it denotes a string\n",
        "string='   azim   '\n",
        "string.strip()"
      ],
      "execution_count": 102,
      "outputs": [
        {
          "output_type": "execute_result",
          "data": {
            "application/vnd.google.colaboratory.intrinsic+json": {
              "type": "string"
            },
            "text/plain": [
              "'azim'"
            ]
          },
          "metadata": {
            "tags": []
          },
          "execution_count": 102
        }
      ]
    },
    {
      "cell_type": "code",
      "metadata": {
        "colab": {
          "base_uri": "https://localhost:8080/",
          "height": 35
        },
        "id": "dtTia-tfCCSk",
        "outputId": "340e6123-9d32-4984-c698-2a5a4ea197f1"
      },
      "source": [
        "string= 'Nython is a 0-index based Nrogramming language'\n",
        "string.replace('N','P')\n"
      ],
      "execution_count": 105,
      "outputs": [
        {
          "output_type": "execute_result",
          "data": {
            "application/vnd.google.colaboratory.intrinsic+json": {
              "type": "string"
            },
            "text/plain": [
              "'Python is a 0-index based Programming language'"
            ]
          },
          "metadata": {
            "tags": []
          },
          "execution_count": 105
        }
      ]
    },
    {
      "cell_type": "code",
      "metadata": {
        "colab": {
          "base_uri": "https://localhost:8080/"
        },
        "id": "xJ6r_W8uDNnP",
        "outputId": "a1f47618-e130-4b83-cea2-d90a30ee7f85"
      },
      "source": [
        "# how to find the presence of an alphanumeric characger, alphabet or digit?\n",
        "string= 'Sakibalhasan100'\n",
        "print(string.isalpha())\n",
        "print(string.isdigit())\n",
        "print(string.isalnum())"
      ],
      "execution_count": 111,
      "outputs": [
        {
          "output_type": "stream",
          "text": [
            "False\n",
            "False\n",
            "True\n"
          ],
          "name": "stdout"
        }
      ]
    },
    {
      "cell_type": "code",
      "metadata": {
        "id": "nUDq8ZnnDndN"
      },
      "source": [
        "# list\n"
      ],
      "execution_count": null,
      "outputs": []
    }
  ]
}